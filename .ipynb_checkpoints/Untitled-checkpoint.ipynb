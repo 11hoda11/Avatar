{
 "cells": [
  {
   "cell_type": "code",
   "execution_count": null,
   "metadata": {},
   "outputs": [],
   "source": [
    "pip install PyOpenGL"
   ]
  },
  {
   "cell_type": "code",
   "execution_count": 1,
   "metadata": {},
   "outputs": [
    {
     "ename": "ModuleNotFoundError",
     "evalue": "No module named 'pygame'",
     "output_type": "error",
     "traceback": [
      "\u001b[1;31m---------------------------------------------------------------------------\u001b[0m",
      "\u001b[1;31mModuleNotFoundError\u001b[0m                       Traceback (most recent call last)",
      "\u001b[1;32m<ipython-input-1-90945e66c4ca>\u001b[0m in \u001b[0;36m<module>\u001b[1;34m\u001b[0m\n\u001b[1;32m----> 1\u001b[1;33m \u001b[1;32mimport\u001b[0m \u001b[0mpygame\u001b[0m\u001b[1;33m\u001b[0m\u001b[1;33m\u001b[0m\u001b[0m\n\u001b[0m\u001b[0;32m      2\u001b[0m \u001b[1;32mfrom\u001b[0m \u001b[0mpygame\u001b[0m\u001b[1;33m.\u001b[0m\u001b[0mlocals\u001b[0m \u001b[1;32mimport\u001b[0m \u001b[1;33m*\u001b[0m\u001b[1;33m\u001b[0m\u001b[1;33m\u001b[0m\u001b[0m\n\u001b[0;32m      3\u001b[0m \u001b[1;32mfrom\u001b[0m \u001b[0mOpenGL\u001b[0m\u001b[1;33m.\u001b[0m\u001b[0mGL\u001b[0m \u001b[1;32mimport\u001b[0m \u001b[1;33m*\u001b[0m\u001b[1;33m\u001b[0m\u001b[1;33m\u001b[0m\u001b[0m\n\u001b[0;32m      4\u001b[0m \u001b[1;32mfrom\u001b[0m \u001b[0mOpenGL\u001b[0m\u001b[1;33m.\u001b[0m\u001b[0mGLUT\u001b[0m \u001b[1;32mimport\u001b[0m \u001b[1;33m*\u001b[0m\u001b[1;33m\u001b[0m\u001b[1;33m\u001b[0m\u001b[0m\n\u001b[0;32m      5\u001b[0m \u001b[1;32mimport\u001b[0m \u001b[0mnumpy\u001b[0m \u001b[1;32mas\u001b[0m \u001b[0mnp\u001b[0m\u001b[1;33m\u001b[0m\u001b[1;33m\u001b[0m\u001b[0m\n",
      "\u001b[1;31mModuleNotFoundError\u001b[0m: No module named 'pygame'"
     ]
    }
   ],
   "source": [
    "import pygame\n",
    "from pygame.locals import *\n",
    "from OpenGL.GL import *\n",
    "from OpenGL.GLUT import *\n",
    "import numpy as np\n",
    "\n",
    "# Initialize Pygame\n",
    "pygame.init()\n",
    "display = (800, 600)\n",
    "pygame.display.set_mode(display, DOUBLEBUF | OPENGL)\n",
    "glMatrixMode(GL_PROJECTION)\n",
    "gluPerspective(45, (display[0] / display[1]), 0.1, 50.0)\n",
    "glMatrixMode(GL_MODELVIEW)\n",
    "gluLookAt(0, -30, 10, 0, 0, 0, 0, 0, 1)\n",
    "\n",
    "# Joint angles (example values)\n",
    "joint_angles = {\n",
    "    'neck': [0, 0, 0],\n",
    "    'shoulder': [45, 0, 0],\n",
    "    'elbow': [90, 0, 0],\n",
    "    'wrist': [0, 0, 0],\n",
    "    'hip': [-30, 0, 0],\n",
    "    'knee': [60, 0, 0],\n",
    "    'ankle': [-30, 0, 0]\n",
    "}\n",
    "\n",
    "def draw_cylinder(radius, height):\n",
    "    quadric = gluNewQuadric()\n",
    "    gluCylinder(quadric, radius, radius, height, 20, 20)\n",
    "\n",
    "def draw_joint(radius):\n",
    "    glutSolidSphere(radius, 20, 20)\n",
    "\n",
    "def stick_figure():\n",
    "    glClear(GL_COLOR_BUFFER_BIT | GL_DEPTH_BUFFER_BIT)\n",
    "    glPushMatrix()\n",
    "\n",
    "    # Draw stick figure\n",
    "    glTranslatef(0, 0, 0)\n",
    "    draw_joint(0.5)  # Draw neck\n",
    "\n",
    "    # Draw body parts\n",
    "    for joint, angles in joint_angles.items():\n",
    "        glRotatef(angles[0], 1, 0, 0)\n",
    "        glRotatef(angles[1], 0, 1, 0)\n",
    "        glRotatef(angles[2], 0, 0, 1)\n",
    "        if joint != 'neck':\n",
    "            draw_cylinder(0.2, 1)  # Draw limb\n",
    "\n",
    "    glPopMatrix()\n",
    "    pygame.display.flip()\n",
    "\n",
    "def main():\n",
    "    while True:\n",
    "        for event in pygame.event.get():\n",
    "            if event.type == pygame.QUIT:\n",
    "                pygame.quit()\n",
    "                quit()\n",
    "\n",
    "        stick_figure()\n",
    "        pygame.time.wait(10)\n",
    "\n",
    "if __name__ == \"__main__\":\n",
    "    main()\n"
   ]
  }
 ],
 "metadata": {
  "kernelspec": {
   "display_name": "Python 3",
   "language": "python",
   "name": "python3"
  },
  "language_info": {
   "codemirror_mode": {
    "name": "ipython",
    "version": 3
   },
   "file_extension": ".py",
   "mimetype": "text/x-python",
   "name": "python",
   "nbconvert_exporter": "python",
   "pygments_lexer": "ipython3",
   "version": "3.7.4"
  }
 },
 "nbformat": 4,
 "nbformat_minor": 2
}
